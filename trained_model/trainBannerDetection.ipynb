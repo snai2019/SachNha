{
  "nbformat": 4,
  "nbformat_minor": 0,
  "metadata": {
    "colab": {
      "name": "trainBannerDetection.ipynb",
      "provenance": [],
      "collapsed_sections": []
    },
    "kernelspec": {
      "name": "python3",
      "display_name": "Python 3"
    }
  },
  "cells": [
    {
      "cell_type": "markdown",
      "metadata": {
        "id": "uaCitLE5laIi"
      },
      "source": [
        "Connect to Gdrive"
      ]
    },
    {
      "cell_type": "code",
      "metadata": {
        "id": "PdtmO_p64WuJ",
        "colab": {
          "base_uri": "https://localhost:8080/"
        },
        "outputId": "4a4da50b-adb1-44a8-9ee0-891eb01e810d"
      },
      "source": [
        "from google.colab import drive\n",
        "drive.mount('/content/drive/')"
      ],
      "execution_count": null,
      "outputs": [
        {
          "output_type": "stream",
          "text": [
            "Drive already mounted at /content/drive/; to attempt to forcibly remount, call drive.mount(\"/content/drive/\", force_remount=True).\n"
          ],
          "name": "stdout"
        }
      ]
    },
    {
      "cell_type": "markdown",
      "metadata": {
        "id": "JZ6J_WkUlcod"
      },
      "source": [
        "Install libraries"
      ]
    },
    {
      "cell_type": "code",
      "metadata": {
        "id": "2HQor6RToBfH"
      },
      "source": [
        "!pip3 install tensorflow-gpu==1.13.1\n",
        "!pip3 install tensorflow==1.13.1\n",
        "!pip3 install opencv-python\n",
        "!pip3 install keras==2.2.4\n",
        "!pip3 install numpy==1.16.1\n",
        "!pip3 install imageai --upgrade"
      ],
      "execution_count": null,
      "outputs": []
    },
    {
      "cell_type": "markdown",
      "metadata": {
        "id": "Qo7XBbjTlfL3"
      },
      "source": [
        "Training model with collected images (drawed bouding boxes with LabelImg)"
      ]
    },
    {
      "cell_type": "code",
      "metadata": {
        "id": "xYdM1aPEos8X"
      },
      "source": [
        "from imageai.Detection.Custom import DetectionModelTrainer\n",
        "\n",
        "trainer = DetectionModelTrainer()\n",
        "trainer.setModelTypeAsYOLOv3()\n",
        "trainer.setDataDirectory(data_directory=\"/content/drive/MyDrive/TrainingData\")\n",
        "trainer.setTrainConfig(object_names_array=[\"banner\"], batch_size=4, num_experiments=10, train_from_pretrained_model=\"/content/drive/MyDrive/TrainingData/yolo.h5\")\n",
        "trainer.trainModel()"
      ],
      "execution_count": null,
      "outputs": []
    },
    {
      "cell_type": "markdown",
      "metadata": {
        "id": "ZtD8ng4gloTN"
      },
      "source": [
        "Evaluate the model"
      ]
    },
    {
      "cell_type": "code",
      "metadata": {
        "id": "4EohqCkXosyq"
      },
      "source": [
        "from imageai.Detection.Custom import DetectionModelTrainer\n",
        "\n",
        "trainer = DetectionModelTrainer()\n",
        "trainer.setModelTypeAsYOLOv3()\n",
        "trainer.setDataDirectory(data_directory=\"/content/drive/MyDrive/TrainingData\")\n",
        "metrics = trainer.evaluateModel(model_path=\"/content/drive/MyDrive/TrainingData/models\", json_path=\"/content/drive/MyDrive/TrainingData/json/detection_config.json\", iou_threshold=0.5, object_threshold=0.3, nms_threshold=0.5)\n",
        "print(metrics)"
      ],
      "execution_count": null,
      "outputs": []
    },
    {
      "cell_type": "markdown",
      "metadata": {
        "id": "LwICHVXLlrRF"
      },
      "source": [
        "Test Trained Model"
      ]
    },
    {
      "cell_type": "code",
      "metadata": {
        "id": "PkTntkqQoswG"
      },
      "source": [
        "from imageai.Detection.Custom import CustomObjectDetection\n",
        "\n",
        "detector = CustomObjectDetection()\n",
        "detector.setModelTypeAsYOLOv3()\n",
        "detector.setModelPath(\"banner-ex-60--loss-2.76.h5\")\n",
        "detector.setJsonPath(\"detection_config.json\")\n",
        "detector.loadModel()\n",
        "detections = detector.detectObjectsFromImage(input_image=\"banner1.jpg\", output_image_path=\"banner1-detected.jpg\")\n",
        "for detection in detections:\n",
        "    print(detection[\"name\"], \" : \", detection[\"percentage_probability\"], \" : \", detection[\"box_points\"])"
      ],
      "execution_count": null,
      "outputs": []
    }
  ]
}